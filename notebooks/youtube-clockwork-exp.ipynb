{
 "cells": [
  {
   "cell_type": "code",
   "execution_count": 1,
   "metadata": {
    "collapsed": false
   },
   "outputs": [],
   "source": [
    "import numpy as np\n",
    "\n",
    "import caffe\n",
    "\n",
    "from lib import run_net\n",
    "from lib import score_util\n",
    "\n",
    "from datasets.youtube import youtube\n",
    "from datasets.pascal_voc import pascal"
   ]
  },
  {
   "cell_type": "markdown",
   "metadata": {},
   "source": [
    "Configure Caffe and load net"
   ]
  },
  {
   "cell_type": "code",
   "execution_count": 2,
   "metadata": {
    "collapsed": true
   },
   "outputs": [],
   "source": [
    "caffe.set_device(0)\n",
    "caffe.set_mode_gpu()\n",
    "\n",
    "net = caffe.Net('../nets/stage-voc-fcn8s.prototxt',\n",
    "                '../nets/voc-fcn8s-heavy.caffemodel',\n",
    "                caffe.TEST)"
   ]
  },
  {
   "cell_type": "markdown",
   "metadata": {},
   "source": [
    "Dataset details"
   ]
  },
  {
   "cell_type": "code",
   "execution_count": 3,
   "metadata": {
    "collapsed": true
   },
   "outputs": [],
   "source": [
    "YT = youtube('/x/youtube/')\n",
    "PV = pascal('/x/PASCAL/VOC2011')\n",
    "\n",
    "n_cl = len(YT.classes)\n",
    "inputs = YT.load_dataset()"
   ]
  },
  {
   "cell_type": "markdown",
   "metadata": {},
   "source": [
    "Set base clock/subsampling rate"
   ]
  },
  {
   "cell_type": "code",
   "execution_count": 4,
   "metadata": {
    "collapsed": true
   },
   "outputs": [],
   "source": [
    "CR = 10 # subsample amount -- we used only every 10 frames for paper"
   ]
  },
  {
   "cell_type": "markdown",
   "metadata": {},
   "source": [
    "# Oracle per frame"
   ]
  },
  {
   "cell_type": "code",
   "execution_count": 5,
   "metadata": {
    "collapsed": false
   },
   "outputs": [
    {
     "name": "stdout",
     "output_type": "stream",
     "text": [
      "Oracle: Per frame\n",
      "acc\t\t cl acc\t\t mIU\t\t fwIU\n",
      "95.255650\t 82.298180\t 69.999789\t 91.424557\t\n"
     ]
    }
   ],
   "source": [
    "hist_perframe = np.zeros((n_cl, n_cl))\n",
    "for (class_, vid, shot) in inputs:\n",
    "    for f in YT.list_label_frames(class_, vid, shot):\n",
    "        # skip the first 2 frames to align with pipeline\n",
    "        if f < (2*CR + 1):\n",
    "            continue\n",
    "        im = YT.load_frame(class_, vid, shot, f)\n",
    "            \n",
    "        out = run_net.segrun(net, YT.preprocess(im))\n",
    "        out_yt = np.zeros(out.shape, dtype=np.int32)\n",
    "        for c in YT.classes:\n",
    "            out_yt[out == PV.classes.index(c)] = YT.classes.index(c)\n",
    "\n",
    "        label = YT.load_label(class_, vid, shot, f)\n",
    "        label = YT.make_label(label, class_)\n",
    "        hist_perframe += score_util.fast_hist(label.flatten(), out_yt.flatten(), n_cl)\n",
    "\n",
    "acc, cl_acc, mean_iu, fw_iu = score_util.get_scores(hist_perframe)\n",
    "print 'Oracle: Per frame'\n",
    "print 'acc\\t\\t cl acc\\t\\t mIU\\t\\t fwIU'\n",
    "print '{:f}\\t {:f}\\t {:f}\\t {:f}\\t'.format(100*acc, 100*cl_acc, 100*mean_iu, 100*fw_iu)"
   ]
  },
  {
   "cell_type": "markdown",
   "metadata": {},
   "source": [
    "# Clockwork baseline every other frame"
   ]
  },
  {
   "cell_type": "code",
   "execution_count": 6,
   "metadata": {
    "collapsed": false
   },
   "outputs": [
    {
     "name": "stdout",
     "output_type": "stream",
     "text": [
      "Baseline (Every other on subsample by 10)\n",
      "acc\t\t cl acc\t\t mIU\t\t fwIU\n",
      "94.244592\t 78.600476\t 65.643063\t 89.739591\t\n"
     ]
    }
   ],
   "source": [
    "# Run on previous frames\n",
    "hist_baseline = np.zeros((n_cl, n_cl))\n",
    "for (class_, vid, shot) in inputs: \n",
    "    # Run always on previous frame\n",
    "    for f in YT.list_label_frames(class_, vid, shot):\n",
    "        # skip the first 10 frames to align with pipeline\n",
    "        if f < 2*CR + 1:\n",
    "            continue\n",
    "        im = YT.load_frame(class_, vid, shot, (f-CR))\n",
    "            \n",
    "        out = run_net.segrun(net, YT.preprocess(im))\n",
    "        out_yt = np.zeros(out.shape, dtype=np.int32)\n",
    "        for c in YT.classes:\n",
    "            out_yt[out == PV.classes.index(c)] = YT.classes.index(c)\n",
    "\n",
    "        label = YT.load_label(class_, vid, shot, f)\n",
    "        label = YT.make_label(label, class_)\n",
    "        hist_baseline += score_util.fast_hist(label.flatten(), out_yt.flatten(), n_cl)\n",
    "\n",
    "# score merged histograms for on-frame and off-frame inference\n",
    "# to avoid bias in every other evaluation\n",
    "acc, cl_acc, mean_iu, fw_iu = score_util.get_scores(hist_baseline + hist_perframe)\n",
    "print 'Baseline (Every other on subsample by {})'.format(CR)\n",
    "print 'acc\\t\\t cl acc\\t\\t mIU\\t\\t fwIU'\n",
    "print '{:f}\\t {:f}\\t {:f}\\t {:f}\\t'.format(100*acc, 100*cl_acc, 100*mean_iu, 100*fw_iu)"
   ]
  },
  {
   "cell_type": "markdown",
   "metadata": {},
   "source": [
    "# Alternating Clockwork"
   ]
  },
  {
   "cell_type": "code",
   "execution_count": 7,
   "metadata": {
    "collapsed": false
   },
   "outputs": [
    {
     "name": "stdout",
     "output_type": "stream",
     "text": [
      "Alternating Clockwork (Every other on subsample by 10)\n",
      "acc\t\t cl acc\t\t mIU\t\t fwIU\n",
      "94.590488\t 79.387382\t 66.959342\t 90.291947\t\n"
     ]
    }
   ],
   "source": [
    "# Run always assuming updated previous (average with perframe result from above)\n",
    "hist_alternate = np.zeros((n_cl, n_cl))\n",
    "\n",
    "for (class_, vid, shot) in inputs:\n",
    "    for f in YT.list_label_frames(class_, vid, shot):\n",
    "        # skip the first 10 frames to align with pipeline\n",
    "        if f < 2*CR+1:\n",
    "            continue\n",
    "            \n",
    "        # Assume 10 frame old is last full run\n",
    "        im = YT.load_frame(class_, vid, shot, (f-CR))\n",
    "        _ = run_net.segrun(net, YT.preprocess(im))\n",
    "        \n",
    "        # Run current frame through clockwork\n",
    "        im = YT.load_frame(class_, vid, shot, f)\n",
    "        out = run_net.adaptive_clock_forward(net, YT.preprocess(im), False)\n",
    "        out_yt = np.zeros(out.shape, dtype=np.int32)\n",
    "        for c in YT.classes:\n",
    "            out_yt[out == PV.classes.index(c)] = YT.classes.index(c)\n",
    "\n",
    "        label = YT.load_label(class_, vid, shot, f)\n",
    "        label = YT.make_label(label, class_)\n",
    "        hist_alternate += score_util.fast_hist(label.flatten(), out_yt.flatten(), n_cl)\n",
    "\n",
    "# score merged histograms for on-frame and off-frame inference\n",
    "# to avoid bias in every other evaluation\n",
    "acc, cl_acc, mean_iu, fw_iu = score_util.get_scores(hist_alternate + hist_perframe)\n",
    "print 'Alternating Clockwork (Every other on subsample by {})'.format(CR)\n",
    "print 'acc\\t\\t cl acc\\t\\t mIU\\t\\t fwIU'\n",
    "print '{:f}\\t {:f}\\t {:f}\\t {:f}\\t'.format(100*acc, 100*cl_acc, 100*mean_iu, 100*fw_iu)"
   ]
  },
  {
   "cell_type": "markdown",
   "metadata": {},
   "source": [
    "# Adaptive Clockwork"
   ]
  },
  {
   "cell_type": "code",
   "execution_count": 8,
   "metadata": {
    "collapsed": false
   },
   "outputs": [
    {
     "name": "stdout",
     "output_type": "stream",
     "text": [
      "Adaptive Clockwork: Threshold 0.1  Updated 1727/1851 frames (93.3%)\n",
      "acc\t\t cl acc\t\t mIU\t\t fwIU\n",
      "95.251757\t 82.298574\t 69.992369\t 91.418386\t\n",
      "Adaptive Clockwork: Threshold 0.25  Updated 962/1851 frames (52.0%)\n",
      "acc\t\t cl acc\t\t mIU\t\t fwIU\n",
      "94.971220\t 80.688052\t 68.342614\t 90.943456\t\n",
      "Adaptive Clockwork: Threshold 0.35  Updated 405/1851 frames (21.9%)\n",
      "acc\t\t cl acc\t\t mIU\t\t fwIU\n",
      "93.446679\t 72.902067\t 58.985571\t 88.465425\t\n",
      "Adaptive Clockwork: Threshold 0.2545  Updated 926/1851 frames (50.0%)\n",
      "acc\t\t cl acc\t\t mIU\t\t fwIU\n",
      "94.974965\t 81.086213\t 68.496321\t 90.954592\t\n"
     ]
    }
   ],
   "source": [
    "def sm_diff(prev_fts, fts):\n",
    "    prev_m = prev_fts.argmax(axis=0).copy()\n",
    "    curr_m = fts.argmax(axis=0).copy()\n",
    "    diff = np.array(prev_m != curr_m).mean()\n",
    "    return diff\n",
    "\n",
    "def adaptive_clockwork_youtube(thresh):\n",
    "    hist = np.zeros((n_cl, n_cl))\n",
    "    num_frames = 0\n",
    "    num_update_frames = 0\n",
    "    for (class_, vid, shot) in inputs:\n",
    "        is_first = True\n",
    "        for f in YT.list_label_frames(class_, vid, shot):\n",
    "            # skip the first 10 frames to align with pipeline\n",
    "            if f < 2*CR+1:\n",
    "                continue\n",
    "\n",
    "            num_frames += 1 # index the total number of frames        \n",
    "            if is_first: # push the 10 frame lag through the net\n",
    "                im = YT.load_frame(class_, vid, shot, (f-CR))\n",
    "                _ = run_net.segrun(net, YT.preprocess(im))\n",
    "                prev_fts = net.blobs['score_pool4'].data[0].copy()\n",
    "                is_first = False\n",
    "\n",
    "            # Run to pool4 on current frame\n",
    "            im = YT.load_frame(class_, vid, shot, f)\n",
    "            run_net.feed_net(net, YT.preprocess(im))\n",
    "            net.forward(start='conv1_1', end='score_pool4')\n",
    "            curr_fts = net.blobs['score_pool4'].data[0].copy()\n",
    "\n",
    "            # Decide whether or not to update to fc7\n",
    "            d = sm_diff(prev_fts, curr_fts)\n",
    "            if sm_diff(prev_fts, curr_fts) >= thresh: # push through rest of net\n",
    "                net.forward(start='conv5_1', end='upscore2') \n",
    "                prev_fts = net.blobs['score_pool4'].data[0].copy()\n",
    "                num_update_frames += 1\n",
    "\n",
    "            # Compute full merge score\n",
    "            net.forward(start='score_pool4c') \n",
    "            out = net.blobs['score'].data[0].argmax(axis=0).astype(np.uint8)\n",
    "            out_yt = np.zeros(out.shape, dtype=np.int32)\n",
    "            for c in YT.classes:\n",
    "                out_yt[out == PV.classes.index(c)] = YT.classes.index(c)\n",
    "\n",
    "            label = YT.load_label(class_, vid, shot, f)\n",
    "            label = YT.make_label(label, class_)\n",
    "            hist += score_util.fast_hist(label.flatten(), out_yt.flatten(), n_cl)\n",
    "\n",
    "    acc, cl_acc, mean_iu, fw_iu = score_util.get_scores(hist)\n",
    "    print 'Adaptive Clockwork: Threshold', thresh, ' Updated {:d}/{:d} frames ({:2.1f}%)'.format(num_update_frames, num_frames, 100.0*num_update_frames/num_frames)\n",
    "    print 'acc\\t\\t cl acc\\t\\t mIU\\t\\t fwIU'\n",
    "    print '{:f}\\t {:f}\\t {:f}\\t {:f}\\t'.format(100*acc, 100*cl_acc, 100*mean_iu, 100*fw_iu)\n",
    "    return acc, cl_acc, mean_iu, fw_iu\n",
    "\n",
    "for thresh in (0.10, 0.25, 0.35, 0.2545):\n",
    "    adaptive_clockwork_youtube(thresh) "
   ]
  }
 ],
 "metadata": {
  "kernelspec": {
   "display_name": "Python 2",
   "language": "python",
   "name": "python2"
  },
  "language_info": {
   "codemirror_mode": {
    "name": "ipython",
    "version": 2
   },
   "file_extension": ".py",
   "mimetype": "text/x-python",
   "name": "python",
   "nbconvert_exporter": "python",
   "pygments_lexer": "ipython2",
   "version": "2.7.11+"
  }
 },
 "nbformat": 4,
 "nbformat_minor": 0
}
